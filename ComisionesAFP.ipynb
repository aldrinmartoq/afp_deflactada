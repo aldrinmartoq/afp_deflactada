{
 "cells": [
  {
   "cell_type": "code",
   "execution_count": 1,
   "metadata": {
    "collapsed": true
   },
   "outputs": [],
   "source": [
    "import time\n",
    "import pandas as pd\n",
    "import matplotlib.pyplot as plt\n",
    "from datetime import datetime\n",
    "%matplotlib inline"
   ]
  },
  {
   "cell_type": "code",
   "execution_count": 2,
   "metadata": {
    "collapsed": true
   },
   "outputs": [],
   "source": [
    "inicio = '1981-06-30'\n",
    "fin = '2016-08-30'"
   ]
  },
  {
   "cell_type": "code",
   "execution_count": 3,
   "metadata": {
    "collapsed": false,
    "scrolled": true
   },
   "outputs": [],
   "source": [
    "# Descargar datos de comisiones (Lento)\n",
    "rng = pd.date_range(start=inicio, end=fin, freq='MS')\n",
    "dfs = []\n",
    "for day in rng:\n",
    "    url = 'http://www.safp.cl/safpstats/stats/apps/estcom/estcom.php?fecha=%s'%day.strftime(\"%Y%m%d\")\n",
    "    df = pd.read_html(url)[19].loc[3:8,0:1]\n",
    "    df['date'] = day\n",
    "    dfs.append(df.pivot(index='date', columns=0, values=1))\n",
    "    time.sleep(1)"
   ]
  },
  {
   "cell_type": "code",
   "execution_count": 4,
   "metadata": {
    "collapsed": false
   },
   "outputs": [
    {
     "data": {
      "text/html": [
       "<div>\n",
       "<table border=\"1\" class=\"dataframe\">\n",
       "  <thead>\n",
       "    <tr style=\"text-align: right;\">\n",
       "      <th></th>\n",
       "      <th>CAPITAL</th>\n",
       "      <th>CUPRUM</th>\n",
       "      <th>HABITAT</th>\n",
       "      <th>MODELO</th>\n",
       "      <th>PLANVITAL</th>\n",
       "      <th>PROVIDA</th>\n",
       "    </tr>\n",
       "    <tr>\n",
       "      <th>date</th>\n",
       "      <th></th>\n",
       "      <th></th>\n",
       "      <th></th>\n",
       "      <th></th>\n",
       "      <th></th>\n",
       "      <th></th>\n",
       "    </tr>\n",
       "  </thead>\n",
       "  <tbody>\n",
       "    <tr>\n",
       "      <th>2016-04-01</th>\n",
       "      <td>1.44</td>\n",
       "      <td>1.48</td>\n",
       "      <td>1.27</td>\n",
       "      <td>0.77</td>\n",
       "      <td>0.47</td>\n",
       "      <td>1.54</td>\n",
       "    </tr>\n",
       "    <tr>\n",
       "      <th>2016-05-01</th>\n",
       "      <td>1.44</td>\n",
       "      <td>1.48</td>\n",
       "      <td>1.27</td>\n",
       "      <td>0.77</td>\n",
       "      <td>0.47</td>\n",
       "      <td>1.54</td>\n",
       "    </tr>\n",
       "    <tr>\n",
       "      <th>2016-06-01</th>\n",
       "      <td>1.44</td>\n",
       "      <td>1.48</td>\n",
       "      <td>1.27</td>\n",
       "      <td>0.77</td>\n",
       "      <td>0.47</td>\n",
       "      <td>1.54</td>\n",
       "    </tr>\n",
       "    <tr>\n",
       "      <th>2016-07-01</th>\n",
       "      <td>1.44</td>\n",
       "      <td>1.48</td>\n",
       "      <td>1.27</td>\n",
       "      <td>0.77</td>\n",
       "      <td>0.47</td>\n",
       "      <td>1.54</td>\n",
       "    </tr>\n",
       "    <tr>\n",
       "      <th>2016-08-01</th>\n",
       "      <td>1.44</td>\n",
       "      <td>1.48</td>\n",
       "      <td>1.27</td>\n",
       "      <td>0.77</td>\n",
       "      <td>0.41</td>\n",
       "      <td>1.54</td>\n",
       "    </tr>\n",
       "  </tbody>\n",
       "</table>\n",
       "</div>"
      ],
      "text/plain": [
       "           CAPITAL CUPRUM HABITAT MODELO PLANVITAL PROVIDA\n",
       "date                                                      \n",
       "2016-04-01    1.44   1.48    1.27   0.77      0.47    1.54\n",
       "2016-05-01    1.44   1.48    1.27   0.77      0.47    1.54\n",
       "2016-06-01    1.44   1.48    1.27   0.77      0.47    1.54\n",
       "2016-07-01    1.44   1.48    1.27   0.77      0.47    1.54\n",
       "2016-08-01    1.44   1.48    1.27   0.77      0.41    1.54"
      ]
     },
     "execution_count": 4,
     "metadata": {},
     "output_type": "execute_result"
    }
   ],
   "source": [
    "df_s = pd.concat(dfs)\n",
    "df_s.drop(labels=[u'(*)'],axis=1, inplace=True)\n",
    "df_s.tail()"
   ]
  },
  {
   "cell_type": "code",
   "execution_count": 5,
   "metadata": {
    "collapsed": false
   },
   "outputs": [
    {
     "data": {
      "text/html": [
       "<div>\n",
       "<table border=\"1\" class=\"dataframe\">\n",
       "  <thead>\n",
       "    <tr style=\"text-align: right;\">\n",
       "      <th></th>\n",
       "      <th>CAPITAL</th>\n",
       "      <th>CUPRUM</th>\n",
       "      <th>HABITAT</th>\n",
       "      <th>MODELO</th>\n",
       "      <th>PLANVITAL</th>\n",
       "      <th>PROVIDA</th>\n",
       "    </tr>\n",
       "    <tr>\n",
       "      <th>date</th>\n",
       "      <th></th>\n",
       "      <th></th>\n",
       "      <th></th>\n",
       "      <th></th>\n",
       "      <th></th>\n",
       "      <th></th>\n",
       "    </tr>\n",
       "  </thead>\n",
       "  <tbody>\n",
       "    <tr>\n",
       "      <th>2016-04-01</th>\n",
       "      <td>0.0144</td>\n",
       "      <td>0.0148</td>\n",
       "      <td>0.0127</td>\n",
       "      <td>0.0077</td>\n",
       "      <td>0.0047</td>\n",
       "      <td>0.0154</td>\n",
       "    </tr>\n",
       "    <tr>\n",
       "      <th>2016-05-01</th>\n",
       "      <td>0.0144</td>\n",
       "      <td>0.0148</td>\n",
       "      <td>0.0127</td>\n",
       "      <td>0.0077</td>\n",
       "      <td>0.0047</td>\n",
       "      <td>0.0154</td>\n",
       "    </tr>\n",
       "    <tr>\n",
       "      <th>2016-06-01</th>\n",
       "      <td>0.0144</td>\n",
       "      <td>0.0148</td>\n",
       "      <td>0.0127</td>\n",
       "      <td>0.0077</td>\n",
       "      <td>0.0047</td>\n",
       "      <td>0.0154</td>\n",
       "    </tr>\n",
       "    <tr>\n",
       "      <th>2016-07-01</th>\n",
       "      <td>0.0144</td>\n",
       "      <td>0.0148</td>\n",
       "      <td>0.0127</td>\n",
       "      <td>0.0077</td>\n",
       "      <td>0.0047</td>\n",
       "      <td>0.0154</td>\n",
       "    </tr>\n",
       "    <tr>\n",
       "      <th>2016-08-01</th>\n",
       "      <td>0.0144</td>\n",
       "      <td>0.0148</td>\n",
       "      <td>0.0127</td>\n",
       "      <td>0.0077</td>\n",
       "      <td>0.0041</td>\n",
       "      <td>0.0154</td>\n",
       "    </tr>\n",
       "  </tbody>\n",
       "</table>\n",
       "</div>"
      ],
      "text/plain": [
       "            CAPITAL  CUPRUM  HABITAT  MODELO  PLANVITAL  PROVIDA\n",
       "date                                                            \n",
       "2016-04-01   0.0144  0.0148   0.0127  0.0077     0.0047   0.0154\n",
       "2016-05-01   0.0144  0.0148   0.0127  0.0077     0.0047   0.0154\n",
       "2016-06-01   0.0144  0.0148   0.0127  0.0077     0.0047   0.0154\n",
       "2016-07-01   0.0144  0.0148   0.0127  0.0077     0.0047   0.0154\n",
       "2016-08-01   0.0144  0.0148   0.0127  0.0077     0.0041   0.0154"
      ]
     },
     "execution_count": 5,
     "metadata": {},
     "output_type": "execute_result"
    }
   ],
   "source": [
    "# Opciones lectura y escritura de archivos csv compatibles con excel spanish\n",
    "karg_csvw = dict(sep=';', decimal=',')\n",
    "df = df_s.apply(pd.to_numeric, errors='coerce').div(100.)\n",
    "df.to_csv('comisiones/comisiones.csv', **karg_csvw)\n",
    "df.tail()"
   ]
  },
  {
   "cell_type": "code",
   "execution_count": null,
   "metadata": {
    "collapsed": true
   },
   "outputs": [],
   "source": []
  }
 ],
 "metadata": {
  "kernelspec": {
   "display_name": "Python 2",
   "language": "python",
   "name": "python2"
  },
  "language_info": {
   "codemirror_mode": {
    "name": "ipython",
    "version": 2
   },
   "file_extension": ".py",
   "mimetype": "text/x-python",
   "name": "python",
   "nbconvert_exporter": "python",
   "pygments_lexer": "ipython2",
   "version": "2.7.11"
  }
 },
 "nbformat": 4,
 "nbformat_minor": 0
}
