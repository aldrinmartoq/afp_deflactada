{
 "cells": [
  {
   "cell_type": "code",
   "execution_count": 1,
   "metadata": {
    "collapsed": true
   },
   "outputs": [],
   "source": [
    "import pandas as pd\n",
    "import matplotlib.pyplot as plt\n",
    "from datetime import datetime\n",
    "%matplotlib inline"
   ]
  },
  {
   "cell_type": "code",
   "execution_count": 2,
   "metadata": {
    "collapsed": true
   },
   "outputs": [],
   "source": [
    "# Opciones lectura y escritura de archivos csv compatibles con excel spanish\n",
    "karg_csv = dict(delimiter=';', decimal=',', index_col=0, parse_dates=True)\n",
    "karg_csvw = dict(sep=';', decimal=',')"
   ]
  },
  {
   "cell_type": "code",
   "execution_count": 3,
   "metadata": {
    "collapsed": true
   },
   "outputs": [],
   "source": [
    "afps = ['CUPRUM', 'HABITAT', 'PLANVITAL', 'PROVIDA', 'MODELO']"
   ]
  },
  {
   "cell_type": "code",
   "execution_count": 4,
   "metadata": {
    "collapsed": true
   },
   "outputs": [],
   "source": [
    "for afp_name in afps:\n",
    "    filename = 'https://raw.githubusercontent.com/collabmarket/data_afp/master/data/VC-%s.csv'%afp_name\n",
    "    vc = pd.read_csv(filename, **karg_csv)\n",
    "    vc_m = vc.resample('M').first().pct_change(1)\n",
    "    vc_m.to_csv('rent-mensual/rent-mensual-%s.csv'%afp_name, **karg_csvw)\n"
   ]
  },
  {
   "cell_type": "code",
   "execution_count": null,
   "metadata": {
    "collapsed": false
   },
   "outputs": [],
   "source": []
  }
 ],
 "metadata": {
  "kernelspec": {
   "display_name": "Python 2",
   "language": "python",
   "name": "python2"
  },
  "language_info": {
   "codemirror_mode": {
    "name": "ipython",
    "version": 2
   },
   "file_extension": ".py",
   "mimetype": "text/x-python",
   "name": "python",
   "nbconvert_exporter": "python",
   "pygments_lexer": "ipython2",
   "version": "2.7.11"
  }
 },
 "nbformat": 4,
 "nbformat_minor": 0
}
